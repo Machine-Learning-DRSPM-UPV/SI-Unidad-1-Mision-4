{
 "cells": [
  {
   "cell_type": "markdown",
   "metadata": {},
   "source": [
    "# Activity 1.02: Teaching the Agent to Realize Situations When It Defends Against Losses\n",
    "\n",
    "In this activity, we will force the computer to defend against a loss if the player puts their third sign in a row, column, or diagonal line:\n",
    "\n",
    "  > **Hints**  \n",
    "  >  1. Reuse all the code from Steps 1–5 from the Exercise 1.03.\n",
    "  >  2. Create a function called `player_can_win` that takes all the moves from the board using the `all_moves_from_board` function and iterates over it using a variable called `next_move`. On each iteration, it checks whether the game can be won by the sign, and then it returns `True` or `False`.\n",
    "  >  3. Extend the AI's move so that it prefers making safe moves. A move is safe if the opponent cannot win the game in the next step.\n",
    "  >  4. Test the new application. You will find that the AI has made the correct move.\n",
    "  >  5. Place this logic in the state space generator and check how well the computer player is doing by generating all possible games.\n",
    "  \n",
    "Output:\n",
    "\n",
    "```\n",
    "step 0. Moves: 1\n",
    "step 1. Moves: 9\n",
    "step 2. Moves: 72\n",
    "step 3. Moves: 504\n",
    "step 4. Moves: 3024\n",
    "step 5. Moves: 5197\n",
    "step 6. Moves: 18606\n",
    "step 7. Moves: 19592\n",
    "step 8. Moves: 30936\n",
    "First player wins: 20843\n",
    "Second player wins: 962\n",
    "Draw 20243\n",
    "Total 42048\n",
    "```"
   ]
  },
  {
   "cell_type": "code",
   "execution_count": 21,
   "metadata": {},
   "outputs": [],
   "source": [
    "# steps Steps 1-5 from Exercise 1.02"
   ]
  },
  {
   "cell_type": "code",
   "execution_count": 22,
   "metadata": {},
   "outputs": [],
   "source": [
    "# steps 2-5 of Acctivity 1.01"
   ]
  },
  {
   "cell_type": "code",
   "execution_count": 23,
   "metadata": {},
   "outputs": [],
   "source": [
    "# define the function player_can_win"
   ]
  },
  {
   "cell_type": "code",
   "execution_count": 24,
   "metadata": {},
   "outputs": [],
   "source": [
    "# re define the ai_move function"
   ]
  },
  {
   "cell_type": "code",
   "execution_count": 25,
   "metadata": {},
   "outputs": [],
   "source": [
    "# Test the application"
   ]
  },
  {
   "cell_type": "code",
   "execution_count": 26,
   "metadata": {},
   "outputs": [],
   "source": [
    "# place this logic in the state space generator and check how well the computer player is doing by generating all the possible games "
   ]
  },
  {
   "cell_type": "code",
   "execution_count": 27,
   "metadata": {},
   "outputs": [],
   "source": [
    "# Count the options that are possible"
   ]
  },
  {
   "cell_type": "code",
   "execution_count": null,
   "metadata": {},
   "outputs": [],
   "source": []
  }
 ],
 "metadata": {
  "kernelspec": {
   "display_name": "Python 3",
   "language": "python",
   "name": "python3"
  },
  "language_info": {
   "codemirror_mode": {
    "name": "ipython",
    "version": 3
   },
   "file_extension": ".py",
   "mimetype": "text/x-python",
   "name": "python",
   "nbconvert_exporter": "python",
   "pygments_lexer": "ipython3",
   "version": "3.8.5"
  }
 },
 "nbformat": 4,
 "nbformat_minor": 4
}
